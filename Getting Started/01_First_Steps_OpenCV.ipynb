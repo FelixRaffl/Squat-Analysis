{
 "cells": [
  {
   "cell_type": "markdown",
   "metadata": {},
   "source": [
    "# Getting started with Open CV"
   ]
  },
  {
   "cell_type": "markdown",
   "metadata": {},
   "source": [
    "In this notebook you will learn how to do fundamental things with open cv, with respect to the given project of a squat analysis. We will need to: \n",
    "\n",
    " + acess a camera\n",
    " + read an image/video from it\n",
    " + find markes in the respective frames\n"
   ]
  },
  {
   "cell_type": "markdown",
   "metadata": {},
   "source": [
    "## 0 Packages"
   ]
  },
  {
   "cell_type": "markdown",
   "metadata": {},
   "source": [
    "As always we need to import some packages so we can use their methods/functions"
   ]
  },
  {
   "cell_type": "code",
   "execution_count": 2,
   "metadata": {},
   "outputs": [],
   "source": [
    "import cv2\n",
    "import matplotlib.pyplot as plt\n"
   ]
  },
  {
   "cell_type": "markdown",
   "metadata": {},
   "source": [
    "To check whether Opven CV was imported correctly, we check the version of Open CV"
   ]
  },
  {
   "cell_type": "code",
   "execution_count": 3,
   "metadata": {},
   "outputs": [
    {
     "name": "stdout",
     "output_type": "stream",
     "text": [
      "OpenCV-Python Version 4.10.0\n"
     ]
    }
   ],
   "source": [
    "print(\"OpenCV-Python Version {}\".format(cv2.__version__))"
   ]
  },
  {
   "cell_type": "markdown",
   "metadata": {},
   "source": [
    "## 1 Acessing The Camera\n",
    "\n",
    "As we need to see an athlete doing a squat, we need a camera. So let's check which camera devices are available."
   ]
  },
  {
   "cell_type": "code",
   "execution_count": 4,
   "metadata": {},
   "outputs": [
    {
     "name": "stdout",
     "output_type": "stream",
     "text": [
      "A camera was opened\n"
     ]
    }
   ],
   "source": [
    "cap = cv2.VideoCapture(0)\n",
    "if not cap.isOpened():\n",
    "    print(\"Cannot open camera\")\n",
    "else:\n",
    "    print(\"A camera was opened\")"
   ]
  },
  {
   "cell_type": "markdown",
   "metadata": {},
   "source": [
    "## 2 Read A Frame From The Camera\n",
    "\n",
    "As a camera was opened we would like to get an image from it. We do this using Open CV's method .read() on the camera object cap"
   ]
  },
  {
   "cell_type": "code",
   "execution_count": 5,
   "metadata": {},
   "outputs": [],
   "source": [
    "ret, frame = cap.read()"
   ]
  },
  {
   "cell_type": "markdown",
   "metadata": {},
   "source": [
    "Now we need to show the frame so we know what we have recorded. We use the .imshow() method of Open CV"
   ]
  },
  {
   "cell_type": "code",
   "execution_count": 14,
   "metadata": {},
   "outputs": [],
   "source": [
    "cv2.imshow('This is the recorded frame', frame)\n",
    "cv2.waitKey(0)\n",
    "cv2.destroyAllWindows()"
   ]
  },
  {
   "cell_type": "markdown",
   "metadata": {},
   "source": [
    "## 3 Find Markers\n",
    "\n",
    "As we would like to find markers at some point we need to define the markers properties first. There are several options available starting from color markers over infrared to patternbased ones. ArUco Markers are a classic marker type for this kind of tracking. Therefore we will go with them. What is an ArUco Code and what can we do with it? Well. Let's create an ArUco code on our own."
   ]
  },
  {
   "cell_type": "markdown",
   "metadata": {},
   "source": [
    "ArUco codes often come in form of a dictionary. A 6x6 ArUco code has 6 rows and 6 columns with either black or white cells. The dictionary contains all available versions that respect the ArUco code boundary conditions. We can load such a dictionary by using Open CV"
   ]
  },
  {
   "cell_type": "code",
   "execution_count": 15,
   "metadata": {},
   "outputs": [],
   "source": [
    "aruco_dict = cv2.aruco.getPredefinedDictionary(cv2.aruco.DICT_6X6_250)"
   ]
  },
  {
   "cell_type": "markdown",
   "metadata": {},
   "source": [
    "As a next step we want to use one of the markers in the dictionary. Of course, we want to use the number 42 as our index. Our reference image for the marker is 200. \n",
    "\n",
    "Source: geeksforgeeks.org"
   ]
  },
  {
   "cell_type": "code",
   "execution_count": 1,
   "metadata": {},
   "outputs": [
    {
     "ename": "NameError",
     "evalue": "name 'cv2' is not defined",
     "output_type": "error",
     "traceback": [
      "\u001b[1;31m---------------------------------------------------------------------------\u001b[0m",
      "\u001b[1;31mNameError\u001b[0m                                 Traceback (most recent call last)",
      "Cell \u001b[1;32mIn[1], line 4\u001b[0m\n\u001b[0;32m      2\u001b[0m marker_id \u001b[38;5;241m=\u001b[39m \u001b[38;5;241m43\u001b[39m\n\u001b[0;32m      3\u001b[0m marker_size \u001b[38;5;241m=\u001b[39m \u001b[38;5;241m200\u001b[39m  \u001b[38;5;66;03m# Size in pixels\u001b[39;00m\n\u001b[1;32m----> 4\u001b[0m marker_image \u001b[38;5;241m=\u001b[39m \u001b[43mcv2\u001b[49m\u001b[38;5;241m.\u001b[39maruco\u001b[38;5;241m.\u001b[39mgenerateImageMarker(aruco_dict, marker_id, marker_size)\n\u001b[0;32m      6\u001b[0m cv2\u001b[38;5;241m.\u001b[39mimwrite(\u001b[38;5;124m'\u001b[39m\u001b[38;5;124mmarker_42.png\u001b[39m\u001b[38;5;124m'\u001b[39m, marker_image)\n\u001b[0;32m      7\u001b[0m plt\u001b[38;5;241m.\u001b[39mimshow(marker_image, cmap\u001b[38;5;241m=\u001b[39m\u001b[38;5;124m'\u001b[39m\u001b[38;5;124mgray\u001b[39m\u001b[38;5;124m'\u001b[39m, interpolation\u001b[38;5;241m=\u001b[39m\u001b[38;5;124m'\u001b[39m\u001b[38;5;124mnearest\u001b[39m\u001b[38;5;124m'\u001b[39m)\n",
      "\u001b[1;31mNameError\u001b[0m: name 'cv2' is not defined"
     ]
    }
   ],
   "source": [
    "\n",
    "# Generate a marker\n",
    "marker_id = 43\n",
    "marker_size = 200  # Size in pixels\n",
    "marker_image = cv2.aruco.generateImageMarker(aruco_dict, marker_id, marker_size)\n",
    "\n",
    "cv2.imwrite('marker_42.png', marker_image)\n",
    "plt.imshow(marker_image, cmap='gray', interpolation='nearest')\n",
    "plt.axis('off')  # Hide axes\n",
    "plt.title(f'ArUco Marker {marker_id}')\n",
    "plt.show()"
   ]
  },
  {
   "cell_type": "markdown",
   "metadata": {},
   "source": [
    "So let's create a new frame that contains an ArUco code that we can try to find"
   ]
  },
  {
   "cell_type": "code",
   "execution_count": 18,
   "metadata": {},
   "outputs": [],
   "source": [
    "ret, frame = cap.read()\n",
    "cv2.imshow('This is the recorded frame', frame)\n",
    "cv2.waitKey(0)\n",
    "cv2.destroyAllWindows()"
   ]
  },
  {
   "cell_type": "markdown",
   "metadata": {},
   "source": [
    "Detecting ArUco markers involves several steps:\n",
    "\n",
    "+ Loading the Image: Load the image containing the ArUco marker using OpenCV’s imread function.\n",
    "+ Converting to Grayscale: Convert the image to grayscale to enhance the detection process.\n",
    "+ Detecting Markers: Use the detectMarkers function from the cv2.aruco module to detect the markers in the image.\n",
    "\n",
    "Source: geeksforgeeks.org"
   ]
  },
  {
   "cell_type": "code",
   "execution_count": 19,
   "metadata": {},
   "outputs": [
    {
     "name": "stdout",
     "output_type": "stream",
     "text": [
      "Detected markers: [[42]]\n"
     ]
    }
   ],
   "source": [
    "# Convert the image to grayscale\n",
    "gray = cv2.cvtColor(frame, cv2.COLOR_BGR2GRAY)\n",
    "aruco_dict = cv2.aruco.getPredefinedDictionary(cv2.aruco.DICT_6X6_250)\n",
    "parameters = cv2.aruco.DetectorParameters()\n",
    "\n",
    "# Create the ArUco detector\n",
    "detector = cv2.aruco.ArucoDetector(aruco_dict, parameters)\n",
    "# Detect the markers\n",
    "corners, ids, rejected = detector.detectMarkers(gray)\n",
    "# Print the detected markers\n",
    "print(\"Detected markers:\", ids)\n",
    "if ids is not None:\n",
    "    cv2.aruco.drawDetectedMarkers(frame, corners, ids)\n",
    "    cv2.imshow('Detected Markers', frame)\n",
    "    cv2.waitKey(0)\n",
    "    cv2.destroyAllWindows()"
   ]
  },
  {
   "cell_type": "markdown",
   "metadata": {},
   "source": [
    "The first steps were carried out in this notebook to be able to detect an ArUco code and therefore we have the base for a squat analysis. Check out https://www.geeksforgeeks.org/detecting-aruco-markers-with-opencv-and-python-1/\n",
    "for details about pose estimation with ArUco Codes and camera calibration"
   ]
  },
  {
   "cell_type": "code",
   "execution_count": null,
   "metadata": {},
   "outputs": [],
   "source": []
  }
 ],
 "metadata": {
  "kernelspec": {
   "display_name": "Python 3",
   "language": "python",
   "name": "python3"
  },
  "language_info": {
   "codemirror_mode": {
    "name": "ipython",
    "version": 3
   },
   "file_extension": ".py",
   "mimetype": "text/x-python",
   "name": "python",
   "nbconvert_exporter": "python",
   "pygments_lexer": "ipython3",
   "version": "3.12.7"
  }
 },
 "nbformat": 4,
 "nbformat_minor": 2
}
