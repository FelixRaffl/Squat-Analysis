{
 "cells": [
  {
   "cell_type": "markdown",
   "metadata": {},
   "source": [
    "# Getting started with Open CV"
   ]
  },
  {
   "cell_type": "markdown",
   "metadata": {},
   "source": [
    "In this notebook you will learn how to do fundamental things with open cv, with respect to the given project of a squat analysis. We will need to: \n",
    "\n",
    " + acess a camera\n",
    " + read an image/video from it\n",
    " + find markes in the respective frames\n"
   ]
  },
  {
   "cell_type": "markdown",
   "metadata": {},
   "source": [
    "## 0 Packages"
   ]
  },
  {
   "cell_type": "markdown",
   "metadata": {},
   "source": [
    "As always we need to import some packages so we can use their methods/functions"
   ]
  },
  {
   "cell_type": "code",
   "execution_count": 26,
   "metadata": {},
   "outputs": [],
   "source": [
    "import cv2\n",
    "import matplotlib.pyplot as plt\n"
   ]
  },
  {
   "cell_type": "markdown",
   "metadata": {},
   "source": [
    "To check whether Opven CV was imported correctly, we check the version of Open CV"
   ]
  },
  {
   "cell_type": "markdown",
   "metadata": {},
   "source": [
    "## 1 Acessing The Camera\n",
    "\n",
    "As we need to see an athlete doing a squat, we need a camera. So let's check which camera devices are available."
   ]
  },
  {
   "cell_type": "code",
   "execution_count": 27,
   "metadata": {},
   "outputs": [
    {
     "name": "stdout",
     "output_type": "stream",
     "text": [
      "A camera was opened\n"
     ]
    }
   ],
   "source": [
    "cap = cv2.VideoCapture(0)\n",
    "if not cap.isOpened():\n",
    "    print(\"Cannot open camera\")\n",
    "else:\n",
    "    print(\"A camera was opened\")"
   ]
  },
  {
   "cell_type": "markdown",
   "metadata": {},
   "source": [
    "## 2 Read A Frame From The Camera\n",
    "\n",
    "As a camera was opened we would like to get an image from it. We do this using Open CV's method .read() on the camera object cap"
   ]
  },
  {
   "cell_type": "markdown",
   "metadata": {},
   "source": [
    "Now we need to show the frame so we know what we have recorded. We use the .imshow() method of Open CV"
   ]
  },
  {
   "cell_type": "markdown",
   "metadata": {},
   "source": [
    "## 3 Find Markers\n",
    "\n",
    "As we would like to find markers at some point we need to define the markers properties first. There are several options available starting from color markers over infrared to patternbased ones. ArUco Markers are a classic marker type for this kind of tracking. Therefore we will go with them. What is an ArUco Code and what can we do with it? Well. Let's create an ArUco code on our own."
   ]
  },
  {
   "cell_type": "markdown",
   "metadata": {},
   "source": [
    "ArUco codes often come in form of a dictionary. A 6x6 ArUco code has 6 rows and 6 columns with either black or white cells. The dictionary contains all available versions that respect the ArUco code boundary conditions. We can load such a dictionary by using Open CV"
   ]
  },
  {
   "cell_type": "code",
   "execution_count": 28,
   "metadata": {},
   "outputs": [],
   "source": [
    "aruco_dict = cv2.aruco.getPredefinedDictionary(cv2.aruco.DICT_6X6_250)"
   ]
  },
  {
   "cell_type": "markdown",
   "metadata": {},
   "source": [
    "As a next step we want to use one of the markers in the dictionary. Of course, we want to use the number 42 as our index. Our reference image for the marker is 200. \n",
    "\n",
    "Source: geeksforgeeks.org"
   ]
  },
  {
   "cell_type": "markdown",
   "metadata": {},
   "source": [
    "So let's create a new frame that contains an ArUco code that we can try to find"
   ]
  },
  {
   "cell_type": "code",
   "execution_count": 29,
   "metadata": {},
   "outputs": [],
   "source": [
    "ret, frame = cap.read()\n",
    "cv2.imshow('This is the recorded frame', frame)\n",
    "cv2.waitKey(0)\n",
    "cv2.destroyAllWindows()"
   ]
  },
  {
   "cell_type": "markdown",
   "metadata": {},
   "source": [
    "Detecting ArUco markers involves several steps:\n",
    "\n",
    "+ Loading the Image: Load the image containing the ArUco marker using OpenCV’s imread function.\n",
    "+ Converting to Grayscale: Convert the image to grayscale to enhance the detection process.\n",
    "+ Detecting Markers: Use the detectMarkers function from the cv2.aruco module to detect the markers in the image.\n",
    "\n",
    "Source: geeksforgeeks.org"
   ]
  },
  {
   "cell_type": "code",
   "execution_count": 30,
   "metadata": {},
   "outputs": [
    {
     "name": "stdout",
     "output_type": "stream",
     "text": [
      "Detected markers: [[100]]\n"
     ]
    }
   ],
   "source": [
    "# Convert the image to grayscale\n",
    "gray = cv2.cvtColor(frame, cv2.COLOR_BGR2GRAY)\n",
    "aruco_dict = cv2.aruco.getPredefinedDictionary(cv2.aruco.DICT_4X4_250)\n",
    "parameters = cv2.aruco.DetectorParameters()\n",
    "\n",
    "# Create the ArUco detector\n",
    "detector = cv2.aruco.ArucoDetector(aruco_dict, parameters)\n",
    "# Detect the markers\n",
    "corners, ids, rejected = detector.detectMarkers(gray)\n",
    "# Print the detected markers\n",
    "print(\"Detected markers:\", ids)\n",
    "if ids is not None:\n",
    "    cv2.aruco.drawDetectedMarkers(frame, corners, ids)\n",
    "    cv2.imshow('Detected Markers', frame)\n",
    "    cv2.waitKey(0)\n",
    "    cv2.destroyAllWindows()"
   ]
  },
  {
   "cell_type": "markdown",
   "metadata": {},
   "source": [
    "The first steps were carried out in this notebook to be able to detect an ArUco code and therefore we have the base for a squat analysis. Check out https://www.geeksforgeeks.org/detecting-aruco-markers-with-opencv-and-python-1/\n",
    "for details about pose estimation with ArUco Codes and camera calibration"
   ]
  },
  {
   "cell_type": "code",
   "execution_count": null,
   "metadata": {},
   "outputs": [],
   "source": []
  }
 ],
 "metadata": {
  "kernelspec": {
   "display_name": "Python 3",
   "language": "python",
   "name": "python3"
  },
  "language_info": {
   "codemirror_mode": {
    "name": "ipython",
    "version": 3
   },
   "file_extension": ".py",
   "mimetype": "text/x-python",
   "name": "python",
   "nbconvert_exporter": "python",
   "pygments_lexer": "ipython3",
   "version": "3.12.7"
  }
 },
 "nbformat": 4,
 "nbformat_minor": 2
}
